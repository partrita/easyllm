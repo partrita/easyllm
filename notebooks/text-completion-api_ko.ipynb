{
 "cells": [
  {
   "attachments": {},
   "cell_type": "markdown",
   "metadata": {},
   "source": [
    "# 텍스트 (지시) 완료 클라이언트 사용 방법\n",
    "\n",
    "EasyLLM은 `text-davinci-003`을 오픈 소스 모델로 대체하는 추상화 계층으로 사용할 수 있습니다.\n",
    "\n",
    "클라이언트만 변경하여 OpenAI API에서 자체 애플리케이션을 변경할 수 있습니다.\n",
    "\n",
    "채팅 모델은 일련의 메시지를 입력으로 사용하고 AI가 작성한 메시지를 출력으로 반환합니다.\n",
    "\n",
    "이 가이드에서는 몇 가지 예제 API 호출을 통해 채팅 형식을 보여줍니다."
   ]
  },
  {
   "attachments": {},
   "cell_type": "markdown",
   "metadata": {},
   "source": [
    "### 1. easyllm 라이브러리 가져오기"
   ]
  },
  {
   "cell_type": "code",
   "execution_count": null,
   "metadata": {},
   "outputs": [],
   "source": [
    "# 필요한 경우 OpenAI Python 라이브러리의 최신 버전으로 설치 및/또는 업그레이드합니다.\n",
    "%pip install --upgrade easyllm "
   ]
  },
  {
   "cell_type": "code",
   "execution_count": 6,
   "metadata": {},
   "outputs": [],
   "source": [
    "# EasyLLM API를 호출하기 위한 EasyLLM Python 라이브러리를 가져옵니다.\n",
    "import easyllm"
   ]
  },
  {
   "attachments": {},
   "cell_type": "markdown",
   "metadata": {},
   "source": [
    "### 2. 채팅 API 호출 예제\n",
    "\n",
    "텍스트 API 호출에는 두 가지 필수 입력이 있습니다.\n",
    "- `model`: 사용하려는 모델의 이름(예: `meta-llama/Llama-2-70b-chat-hf`) 또는 API만 호출하려면 비워 둡니다.\n",
    "- `prompt`: 텍스트를 생성하기 위해 모델로 전송되는 텍스트 프롬프트\n",
    "\n",
    "OpenAI API와 비교하여 `huggingface` 모듈은 프롬프트 및 중지 시퀀스를 사용자 지정하는 데 사용할 수 있는 `prompt_builder` 및 `stop_sequences` 매개변수도 노출합니다. EasyLLM 패키지에는 이러한 두 매개변수에 대한 널리 사용되는 메서드(예: `llama2_prompt_builder` 및 `llama2_stop_sequences`)가 내장되어 있습니다.\n",
    "\n",
    "채팅 형식이 실제로 어떻게 작동하는지 확인하기 위해 예제 채팅 API 호출을 살펴보겠습니다."
   ]
  },
  {
   "cell_type": "code",
   "execution_count": 1,
   "metadata": {},
   "outputs": [
    {
     "data": {
      "text/plain": [
       "{'id': 'hf-ZK--Ndk30h',\n",
       " 'object': 'text.completion',\n",
       " 'created': 1691129933,\n",
       " 'model': 'meta-llama/Llama-2-70b-chat-hf',\n",
       " 'choices': [{'index': 0,\n",
       "   'text': \" 삶의 의미는 수세기 동안 철학자, 신학자, 과학자들을 당혹스럽게 만든 질문입니다. 삶의 의미를 구성하는 것에 대한 다양한 관점이 있으며, 명확한 답은 하나도 없습니다. 그러나 사람들이 종종 삶의 의미와 연관시키는 몇 가지 일반적인 주제는 다음과 같습니다.\\n\\n1. 목적: 일이든, 관계든, 개인적인 목표든 삶의 목적이나 방향 감각을 갖는 것.\\n2. 성취감: 자신의 경험과 성취에 만족하고 성취감을 느끼는 것.\\n3. 행복: 개인적인 관계, 물질적 소유 또는 개인적 성장을 통해 행복과 웰빙을 추구하는 것.\\n4. 자아실현: 자신의 잠재력을 실현하고 자신의 능력에 부응하는 것.\\n5. 유산: 사회에 대한 기여, 예술적 또는 문화적 성취 또는 다른 사람들의 삶에 영향을 미치는 등 지속적인 영향이나 유산을 남기는 것.\\n6. 영성: 더 높은 힘이나 자신보다 더 큰 무언가와 연결되고 신앙이나 영적 실천을 통해 의미와 목적을 찾는 것.\\n7. 사랑: 낭만적인 관계, 우정 또는 가족을 통해 사랑을 찾고 경험하는 것.\\n8. 개인적 성장: 지속적으로 배우고, 성장하고, 자신을 향상시키는 것.\\n9. 커뮤니티: 일이든, 자원봉사든, 사회적 관계든 커뮤니티를 구축하고 그 일부가 되는 것.\\n10. 변화를 만드는 것: 세상에 긍정적인 영향을 미치고 도착했을 때보다 더 나은 곳으로 만드는 것.\\n\\n궁극적으로 삶의 의미는 매우 개인적이고 주관적인 질문이며, 한 사람의 삶에 의미와 목적을 부여하는 것은 다른 사람에게는 다를 수 있습니다. 그것은 각자가 스스로 답해야 하는 질문이며, 성장하고 진화함에 따라 평생 동안 바뀔 수 있습니다.\",\n",
       "   'finish_reason': 'eos_token'}],\n",
       " 'usage': {'prompt_tokens': 11, 'completion_tokens': 406, 'total_tokens': 417}}"
      ]
     },
     "execution_count": 1,
     "metadata": {},
     "output_type": "execute_result"
    }
   ],
   "source": [
    "\n",
    "from easyllm.clients import huggingface\n",
    "\n",
    "# 예제 EasyLLM Python 라이브러리 요청\n",
    "MODEL = \"meta-llama/Llama-2-70b-chat-hf\"\n",
    "huggingface.prompt_builder = \"llama2\"\n",
    "\n",
    "# 이 모듈은 환경 변수 HUGGINGFACE_TOKEN 또는 HuggingFace CLI 구성 파일에서 HuggingFace API 키를 자동으로 로드합니다.\n",
    "# huggingface.api_key=\"hf_xxx\"\n",
    "\n",
    "response = huggingface.Completion.create(\n",
    "    model=MODEL,\n",
    "    prompt=\"삶의 의미는 무엇인가요?\",\n",
    "    temperature=0.9,\n",
    "    top_p=0.6,\n",
    "    max_tokens=1024,\n",
    ")\n",
    "response"
   ]
  },
  {
   "attachments": {},
   "cell_type": "markdown",
   "metadata": {},
   "source": [
    "보시다시피 응답 개체에는 몇 가지 필드가 있습니다.\n",
    "- `id`: 요청 ID\n",
    "- `object`: 반환된 개체 유형(예: `text.completion`)\n",
    "- `created`: 요청 타임스탬프\n",
    "- `model`: 응답을 생성하는 데 사용된 모델의 전체 이름\n",
    "- `usage`: 프롬프트, 완성 및 합계를 계산하여 회신을 생성하는 데 사용된 토큰 수\n",
    "- `choices`: 완성 개체 목록(`n`을 1보다 크게 설정하지 않은 경우 하나만)\n",
    "    - `text`: 생성된 텍스트\n",
    "    - `finish_reason`: 모델이 텍스트 생성을 중지한 이유(`stop`, `eos_token` 또는 `max_tokens` 제한에 도달한 경우 `length`)\n",
    "    - `logprobs`: _선택 사항_ 생성된 각 토큰의 로그 확률입니다."
   ]
  },
  {
   "attachments": {},
   "cell_type": "markdown",
   "metadata": {},
   "source": [
    "다음을 사용하여 회신만 추출합니다."
   ]
  },
  {
   "cell_type": "code",
   "execution_count": 2,
   "metadata": {},
   "outputs": [
    {
     "name": "stdout",
     "output_type": "stream",
     "text": [
      " 삶의 의미는 수세기 동안 철학자, 신학자, 과학자들을 당혹스럽게 만든 질문입니다. 삶의 의미를 구성하는 것에 대한 다양한 관점이 있으며, 명확한 답은 하나도 없습니다. 그러나 사람들이 종종 삶의 의미와 연관시키는 몇 가지 일반적인 주제는 다음과 같습니다.\n",
      "\n",
      "1. 목적: 일이든, 관계든, 개인적인 목표든 삶의 목적이나 방향 감각을 갖는 것.\n",
      "2. 성취감: 자신의 경험과 성취에 만족하고 성취감을 느끼는 것.\n",
      "3. 행복: 개인적인 관계, 물질적 소유 또는 개인적 성장을 통해 행복과 웰빙을 추구하는 것.\n",
      "4. 자아실현: 자신의 잠재력을 실현하고 자신의 능력에 부응하는 것.\n",
      "5. 유산: 사회에 대한 기여, 예술적 또는 문화적 성취 또는 다른 사람들의 삶에 영향을 미치는 등 지속적인 영향이나 유산을 남기는 것.\n",
      "6. 영성: 더 높은 힘이나 자신보다 더 큰 무언가와 연결되고 신앙이나 영적 실천을 통해 의미와 목적을 찾는 것.\n",
      "7. 사랑: 낭만적인 관계, 우정 또는 가족을 통해 사랑을 찾고 경험하는 것.\n",
      "8. 개인적 성장: 지속적으로 배우고, 성장하고, 자신을 향상시키는 것.\n",
      "9. 커뮤니티: 일이든, 자원봉사든, 사회적 관계든 커뮤니티를 구축하고 그 일부가 되는 것.\n",
      "10. 변화를 만드는 것: 세상에 긍정적인 영향을 미치고 도착했을 때보다 더 나은 곳으로 만드는 것.\n",
      "\n",
      "궁극적으로 삶의 의미는 매우 개인적이고 주관적인 질문이며, 한 사람의 삶에 의미와 목적을 부여하는 것은 다른 사람에게는 다를 수 있습니다. 그것은 각자가 스스로 답해야 하는 질문이며, 성장하고 진화함에 따라 평생 동안 바뀔 수 있습니다.\n"
     ]
    }
   ],
   "source": [
    "print(response['choices'][0]['text'])"
   ]
  },
  {
   "cell_type": "code",
   "execution_count": null,
   "metadata": {},
   "outputs": [],
   "source": []
  }
 ],
 "metadata": {
  "kernelspec": {
   "display_name": "openai",
   "language": "python",
   "name": "python3"
  },
  "language_info": {
   "codemirror_mode": {
    "name": "ipython",
    "version": 3
   },
   "file_extension": ".py",
   "mimetype": "text/x-python",
   "name": "python",
   "nbconvert_exporter": "python",
   "pygments_lexer": "ipython3",
   "version": "3.8.12"
  },
  "orig_nbformat": 4,
  "vscode": {
   "interpreter": {
    "hash": "365536dcbde60510dc9073d6b991cd35db2d9bac356a11f5b64279a5e6708b97"
   }
  }
 },
 "nbformat": 4,
 "nbformat_minor": 2
}
