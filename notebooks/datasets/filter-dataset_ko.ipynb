{
 "cells": [
  {
   "cell_type": "code",
   "execution_count": null,
   "metadata": {},
   "outputs": [],
   "source": [
    "%pip uninstall easyllm -y\n",
    "%pip install git+https://github.com/philschmid/easyllm.git@datafilter --upgrade"
   ]
  },
  {
   "cell_type": "code",
   "execution_count": null,
   "metadata": {},
   "outputs": [],
   "source": [
    "from datasets import load_dataset\n",
    "\n",
    "ds = load_dataset('philschmid/oscar-2301-de-minhash-dedup',split=\"train\")\n",
    "# ds = load_dataset('wikipedia','20220301.de',split=\"train\")"
   ]
  },
  {
   "cell_type": "markdown",
   "metadata": {},
   "source": [
    "## 혼란도 필터링 \n"
   ]
  },
  {
   "cell_type": "code",
   "execution_count": 26,
   "metadata": {},
   "outputs": [
    {
     "name": "stdout",
     "output_type": "stream",
     "text": [
      "§ 80 Abs. 5 Satz 1 Halbsatz 2 VwGO에 따라 주요 사건의 법원은 소송의 효력 정지를 전부 또는 일부 복원할 수 있습니다. 즉시 집행이 § 80 Abs. 3 Satz 1 VwGO의 형식적 요건을 충족하여 당국에 의해 명령된 경우, 법원은 § 80 Abs. 5 Satz 1 Halbsatz 2 VwGO에 따라 신청인의 이익, 즉 이의 제기된 행정 행위의 집행으로부터 최종 결정까지 면제받을 이익과 즉시 집행에 대한 특별 공익을 자체적으로 비교 평가하여 소송의 효력 정지 복원에 대해 결정합니다(BVerwG, 2014년 12월 19일자 결정 - 7 VR 5.14 -, juris Rn. 9; Nds. OVG, 2014년 9월 10일자 결정 - 8 ME 87/14 -, juris Rn. 2 참조). 이익 비교 평가의 틀 내에서 주요 사건에서 제기된 구제 수단의 성공 가능성은 결정적인 중요성을 갖습니다. 임시 법적 보호의 틀 내에서 필요하지만 원칙적으로 충분한(Nds. OVG, 2017년 8월 16일자 결정 - 13 ME 173/17 -, juris Rn. 4 참조, 2018년 1월 24일자 결정 - 7 ME 110/17 -, juris Rn. 28 참조) 간략한 검토 결과, 이의 제기된 행정 행위가 명백히 합법적인 것으로 판명되어 주요 사건에서 구제 수단이 성공하지 못할 것으로 판단되는 경우, 일반적으로 행정 행위의 즉시 집행에 대한 공익이 우선합니다. 반대로 간략한 검토 결과 구제 수단이 명백히 성공적인 것으로 판명되는 경우, 일반적으로 행정 행위의 수신인의 이익, 즉 당분간 집행으로부터 면제받을 이익이 우선합니다. 반면에 구제 수단의 성공 가능성이 불확실한 것으로 판명되는 경우, 구제 수단의 성공 가능성에 대한 불확실성이 존재하는 상황에서 행정 행위의 즉시 집행 유지에 찬성하거나 반대하는 이유를 고려하여 상충되는 이익을 비교 평가해야 합니다(Nds. OVG, 2010년 5월 10일자 결정 - 13 ME 181/09 -, juris Rn. 4 참조). 또한 행정 행위의 예상되는 합법성 자체는 집행에 대한 일반적인 이익만을 정당화할 뿐이며, 동시에 § 80 Abs. 2 Satz 1 Nr. 4 VwGO에 따른 당국의 명령에 필요한 긴급성을 정당화하지는 않는다는 점을 고려해야 합니다(기본적으로 BVerfG, 2005년 4월 27일자 결정 - 1 BvR 223/05 -, NVwZ 2005, 1303; 1973년 7월 18일자 결정, - 1 BvR 23/73 -, BVerfGE 35, 382, 402; Nds. OVG, 2014년 9월 10일자 결정, 위와 같음; Finkelnburg/Dombert/Külpmann, 행정 소송 절차에서의 임시 법적 보호, 7판, Rn. 757 이하 참조).\n"
     ]
    }
   ],
   "source": [
    "print(ds[456][\"text\"])"
   ]
  },
  {
   "cell_type": "code",
   "execution_count": 3,
   "metadata": {},
   "outputs": [
    {
     "data": {
      "application/vnd.jupyter.widget-view+json": {
       "model_id": "8071b0d5472949deabe06d5600f46054",
       "version_major": 2,
       "version_minor": 0
      },
      "text/plain": [
       "url 추가 (num_proc=128):   0%|          | 0/53172498 [00:00<?, ? 예제/초]"
      ]
     },
     "metadata": {},
     "output_type": "display_data"
    }
   ],
   "source": [
    "import os\n",
    "from easyllm.data.filters import PerplexityFilter\n",
    "\n",
    "ppl = PerplexityFilter(\"de\",min_threshold=10,max_threshold=1000)\n",
    "\n",
    "def calc_pp(doc):\n",
    "  # pp = ppl.model.get_perplexity(doc[\"text\"])\n",
    "  return {\n",
    "    # \"perplexity\": pp,\n",
    "    \"timestamp\": doc[\"meta\"][\"warc_headers\"][\"warc-date\"],\n",
    "    \"url\": doc[\"meta\"][\"warc_headers\"][\"warc-target-uri\"]\n",
    "  }\n",
    "\n",
    "ds = ds.map(\n",
    "    calc_pp,\n",
    "    remove_columns=[\"meta\"],\n",
    "    num_proc=os.cpu_count(),\n",
    "    desc=\"url 추가\",\n",
    ")\n",
    "# 100만 문서에 1분 소요"
   ]
  },
  {
   "cell_type": "code",
   "execution_count": 3,
   "metadata": {},
   "outputs": [
    {
     "data": {
      "image/png": "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
Iya, tentu, saya akan membantu Anda. Berikut adalah contoh percakapan antara seorang dokter dan pasien yang membahas tentang gejala sakit kepala dan bagaimana cara mengatasinya:

**Pasien:** Selamat pagi, Dokter. Terima kasih sudah bersedia menerima saya.

**Dokter:** Selamat pagi juga. Silakan duduk. Apa yang bisa saya bantu?

**Pasien:** Begini, Dok. Sudah beberapa hari ini saya sering merasa sakit kepala. Rasanya seperti ada yang menekan di bagian dahi dan pelipis, kadang disertai rasa pusing juga.

**Dokter:** Hmm, begitu ya. Bisa Anda jelaskan lebih detail mengenai sakit kepala yang Anda rasakan? Kapan biasanya muncul? Apakah ada pemicu tertentu?

**Pasien:** Biasanya muncul di sore hari, Dok, terutama setelah seharian bekerja di depan komputer. Kadang juga kalau kurang tidur atau stres.

**Dokter:** Apakah ada gejala lain yang menyertai sakit kepala tersebut? Misalnya mual, muntah, atau sensitif terhadap cahaya dan suara?

**Pasien:** Tidak ada mual atau muntah, Dok. Tapi memang kadang saya merasa lebih sensitif terhadap cahaya terang.

**Dokter:** Baik. Sudah berapa lama keluhan ini berlangsung? Dan apakah ada obat yang sudah Anda coba konsumsi?

**Pasien:** Sudah sekitar seminggu ini, Dok. Saya sudah coba minum obat pereda nyeri biasa, tapi hanya meredakan sementara.

**Dokter:** Oke. Untuk memastikan penyebab sakit kepala Anda, saya perlu melakukan beberapa pemeriksaan fisik terlebih dahulu. Silakan berbaring di ranjang periksa.

**(Dokter melakukan pemeriksaan fisik)**

**Dokter:** Dari pemeriksaan fisik, tidak ada kelainan yang signifikan. Kemungkinan besar sakit kepala yang Anda alami adalah jenis sakit kepala tegang atau *tension headache*. Ini seringkali dipicu oleh stres, kelelahan, atau postur tubuh yang kurang baik saat bekerja.

**Pasien:** Oh, begitu ya, Dok. Lalu bagaimana cara mengatasinya?

**Dokter:** Ada beberapa hal yang bisa Anda coba. Pertama, perbaiki postur tubuh Anda saat bekerja. Pastikan posisi duduk Anda ergonomis dan istirahatkan mata secara berkala. Kedua, usahakan untuk mendapatkan tidur yang cukup dan berkualitas. Ketiga, kelola stres dengan baik. Anda bisa mencoba teknik relaksasi seperti meditasi atau yoga.

**Pasien:** Baik, Dok. Apakah ada obat yang bisa saya konsumsi?

**Dokter:** Saya akan meresepkan obat pereda nyeri yang lebih kuat untuk mengatasi sakit kepala Anda saat ini. Namun, perlu diingat bahwa obat ini hanya untuk meredakan gejala, bukan untuk mengatasi penyebabnya. Jadi, penting untuk tetap melakukan perubahan gaya hidup yang saya sebutkan tadi.

**Pasien:** Baik, Dok. Terima kasih banyak atas penjelasannya.

**Dokter:** Sama-sama. Jika keluhan Anda tidak membaik dalam seminggu atau disertai gejala lain yang lebih serius, segera kembali ke sini ya.

**Pasien:** Baik, Dok. Sekali lagi terima kasih.

**Dokter:** Semoga lekas sembuh.
