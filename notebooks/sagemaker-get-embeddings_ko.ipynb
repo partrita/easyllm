{
 "cells": [
  {
   "cell_type": "markdown",
   "metadata": {},
   "source": [
    "## 임베딩 생성 방법\n",
    "\n",
    "이 노트북에서는 자체 텍스트 데이터와 Amazon SageMaker의 엔드포인트로 호스팅되는 Hugging Face의 오픈 소스 모델에 대한 임베딩을 생성하는 방법을 보여줍니다.\n",
    "\n",
    "## 0. 설정\n",
    "\n",
    "Amazon SageMaker에서 `easyllm`을 사용하려면 먼저 모델을 SageMaker 엔드포인트에 배포해야 합니다. 아래 블로그 게시물 중 하나를 따라 이 작업을 수행할 수 있습니다.\n",
    "\n",
    "* [Hugging Face의 Transformers 및 Amazon SageMaker를 사용하여 문서 임베딩 만들기](https://www.philschmid.de/custom-inference-huggingface-sagemaker)\n",
    "\n",
    "엔드포인트 배포가 완료되면 엔드포인트 이름을 복사합니다. 엔드포인트 이름이 `model` 매개변수가 됩니다. AWS 관리 콘솔의 Amazon SageMaker에서 \"추론\" -> \"엔드포인트\" -> \"이름\"으로 이동하거나 sagemaker SDK를 사용하여 모델을 배포한 경우 `predictor.endpoint_name` 속성에서 엔드포인트 이름을 가져올 수 있습니다.\n"
   ]
  },
  {
   "cell_type": "markdown",
   "metadata": {},
   "source": [
    "### 1. easyllm 라이브러리 가져오기"
   ]
  },
  {
   "cell_type": "code",
   "execution_count": null,
   "metadata": {},
   "outputs": [],
   "source": [
    "# 필요한 경우 OpenAI Python 라이브러리의 최신 버전으로 설치 및/또는 업그레이드합니다.\n",
    "%pip install --upgrade easyllm "
   ]
  },
  {
   "cell_type": "code",
   "execution_count": null,
   "metadata": {},
   "outputs": [],
   "source": [
    "# EasyLLM API를 호출하기 위한 EasyLLM Python 라이브러리를 가져옵니다.\n",
    "import easyllm"
   ]
  },
  {
   "cell_type": "markdown",
   "metadata": {},
   "source": [
    "### 2. 채팅 API 호출 예제\n",
    "\n",
    "임베딩 API 호출에는 두 가지 필수 입력이 있습니다.\n",
    "- `model`: 사용하려는 모델의 이름(예: `sentence-transformers/all-MiniLM-L6-v2`) 또는 API만 호출하려면 비워 둡니다.\n",
    "- `input`: 임베딩하려는 문자열 또는 문자열 목록\n",
    "\n",
    "채팅 형식이 실제로 어떻게 작동하는지 확인하기 위해 예제 API 호출을 살펴보겠습니다."
   ]
  },
  {
   "cell_type": "code",
   "execution_count": 3,
   "metadata": {},
   "outputs": [
    {
     "data": {
      "text/plain": [
       "768"
      ]
     },
     "execution_count": 3,
     "metadata": {},
     "output_type": "execute_result"
    }
   ],
   "source": [
    "import os \n",
    "# 프롬프트 빌더용 환경 변수 설정\n",
    "os.environ[\"HUGGINGFACE_PROMPT\"] = \"llama2\" # vicuna, wizardlm, stablebeluga, open_assistant\n",
    "os.environ[\"AWS_REGION\"] = \"us-east-1\"  # 해당 지역으로 변경\n",
    "# os.environ[\"AWS_ACCESS_KEY_ID\"] = \"XXX\" # boto3 세션을 사용하지 않는 경우 필요\n",
    "# os.environ[\"AWS_SECRET_ACCESS_KEY\"] = \"XXX\" # boto3 세션을 사용하지 않는 경우 필요\n",
    "\n",
    "from easyllm.clients import sagemaker\n",
    "\n",
    "embedding = sagemaker.Embedding.create(\n",
    "    model=\"SageMakerModelEmbeddingEndpoint24E49D09-64prhjuiWUtE\",\n",
    "    input=\"저 차 멋지네요.\",\n",
    ")\n",
    "\n",
    "len(embedding[\"data\"][0][\"embedding\"])"
   ]
  },
  {
   "cell_type": "code",
   "execution_count": null,
   "metadata": {},
   "outputs": [],
   "source": []
  }
 ],
 "metadata": {
  "kernelspec": {
   "display_name": "Python 3.9.9 ('openai')",
   "language": "python",
   "name": "python3"
  },
  "language_info": {
   "codemirror_mode": {
    "name": "ipython",
    "version": 3
   },
   "file_extension": ".py",
   "mimetype": "text/x-python",
   "name": "python",
   "nbconvert_exporter": "python",
   "pygments_lexer": "ipython3",
   "version": "3.8.12"
  },
  "orig_nbformat": 4,
  "vscode": {
   "interpreter": {
    "hash": "365536dcbde60510dc9073d6b991cd35db2d9bac356a11f5b64279a5e6708b97"
   }
  }
 },
 "nbformat": 4,
 "nbformat_minor": 2
}
